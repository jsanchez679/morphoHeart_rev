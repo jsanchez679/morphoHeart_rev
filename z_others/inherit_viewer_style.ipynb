{
 "cells": [
  {
   "cell_type": "code",
   "execution_count": 3,
   "metadata": {},
   "outputs": [],
   "source": [
    "import matplotlib\n",
    "%matplotlib inline"
   ]
  },
  {
   "cell_type": "markdown",
   "metadata": {},
   "source": [
    "\n",
    "# Method to get napari style in magicgui based windows\n",
    "\n",
    "Example how to embed magicgui widget in dialog to inherit style\n",
    "from main napari window.\n"
   ]
  },
  {
   "cell_type": "code",
   "execution_count": 14,
   "metadata": {},
   "outputs": [],
   "source": [
    "from typing import Callable\n",
    "\n",
    "from qtpy.QtWidgets import QDialog, QWidget, QVBoxLayout, QPushButton, QGridLayout, QLabel, QSpinBox, QLineEdit\n",
    "\n",
    "from magicgui import magicgui\n",
    "\n",
    "import napari\n",
    "from napari.qt import get_stylesheet\n",
    "from napari.settings import get_settings\n",
    "\n",
    "# The magicgui widget shown by selecting the 'Show widget' button of MyWidget\n",
    "@magicgui\n",
    "def sample_add(a: int, b: int) -> int:\n",
    "    return a + b\n",
    "\n",
    "def change_style():\n",
    "    sample_add.native.setStyleSheet(get_stylesheet(get_settings().appearance.theme))\n",
    "\n",
    "\n",
    "get_settings().appearance.events.theme.connect(change_style)\n",
    "change_style()\n",
    "\n",
    "\n",
    "class MyDialog(QDialog):\n",
    "    def __init__(self, parent=None):\n",
    "        super().__init__(parent)\n",
    "        self.first_input = QLineEdit()\n",
    "        self.second_input = QSpinBox()\n",
    "        self.btn = QPushButton('Load')\n",
    "        layout = QGridLayout()\n",
    "        layout.addWidget(QLabel(\"Name:\"), 0, 0)\n",
    "        layout.addWidget(self.first_input, 0, 1)\n",
    "        layout.addWidget(QLabel(\"Strain:\"), 1, 0)\n",
    "        layout.addWidget(self.second_input, 1, 1)\n",
    "        layout.addWidget(self.btn, 2, 0, 1, 2)\n",
    "        self.setLayout(layout)\n",
    "        self.btn.clicked.connect(self.run)\n",
    "\n",
    "    def run(self):\n",
    "        print('run', self.first_input.value())# + self.second_input.value())\n",
    "        self.close()\n",
    "\n",
    "class MyWidget(QWidget):\n",
    "    def __init__(self):\n",
    "        super().__init__()\n",
    "        self.btn1 = QPushButton('Show dialog')\n",
    "        self.btn1.clicked.connect(self.show_dialog)\n",
    "        self.btn2 = QPushButton('Show widget')\n",
    "        self.btn2.clicked.connect(self.show_widget)\n",
    "        self.layout = QVBoxLayout()\n",
    "        self.layout.addWidget(self.btn1)\n",
    "        self.layout.addWidget(self.btn2)\n",
    "        self.setLayout(self.layout)\n",
    "\n",
    "    def show_dialog(self):\n",
    "        dialog = MyDialog(self)\n",
    "        dialog.exec_()\n",
    "\n",
    "    def show_widget(self):\n",
    "        sample_add.show()\n",
    "\n",
    "\n",
    "\n",
    "viewer = napari.Viewer()\n",
    "\n",
    "widget = MyWidget()\n",
    "viewer.window.add_dock_widget(widget, area='right')\n",
    "napari.run()"
   ]
  },
  {
   "cell_type": "code",
   "execution_count": null,
   "metadata": {},
   "outputs": [],
   "source": []
  }
 ],
 "metadata": {
  "kernelspec": {
   "display_name": "Python 3 (ipykernel)",
   "language": "python",
   "name": "python3"
  },
  "language_info": {
   "codemirror_mode": {
    "name": "ipython",
    "version": 3
   },
   "file_extension": ".py",
   "mimetype": "text/x-python",
   "name": "python",
   "nbconvert_exporter": "python",
   "pygments_lexer": "ipython3",
   "version": "3.9.15"
  }
 },
 "nbformat": 4,
 "nbformat_minor": 1
}
